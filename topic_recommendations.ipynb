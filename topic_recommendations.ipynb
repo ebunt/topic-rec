{
 "cells": [
  {
   "cell_type": "markdown",
   "metadata": {},
   "source": [
    "This notebook demonstates how to fetch urls shared on Twitter and insert into Neo4j. It is a companion to [this blog post]()."
   ]
  },
  {
   "cell_type": "code",
   "execution_count": null,
   "metadata": {
    "collapsed": true
   },
   "outputs": [],
   "source": [
    "from newspaper import Article, fulltext\n",
    "import newspaper\n",
    "import random\n",
    "import pprint\n",
    "import tweepy\n"
   ]
  },
  {
   "cell_type": "code",
   "execution_count": null,
   "metadata": {
    "collapsed": true
   },
   "outputs": [],
   "source": [
    "consumer_key = 'XXX'\n",
    "consumer_secret = 'XXX'\n",
    "access_token = 'XXX'\n",
    "access_token_secret = 'XXX'"
   ]
  },
  {
   "cell_type": "code",
   "execution_count": null,
   "metadata": {
    "collapsed": true
   },
   "outputs": [],
   "source": [
    "graphdb = Graph('http://NEO4J_SERVER_URL_HERE/db/data')"
   ]
  },
  {
   "cell_type": "code",
   "execution_count": null,
   "metadata": {
    "collapsed": true
   },
   "outputs": [],
   "source": [
    "INSERT_USER_URL_QUERY = '''\n",
    "    MERGE (user:User {username: {username}})\n",
    "    MERGE (url:URL {url: {url}})\n",
    "    CREATE UNIQUE (user)-[:SHARED]->(url)\n",
    "    FOREACH (kw in {keywords} | MERGE (k:Keyword {text: kw}) CREATE UNIQUE (k)<-[:IS_ABOUT]-(url))\n",
    "    FOREACH (author in {authors} | MERGE (a:Author {name: author}) CREATE UNIQUE(a)<-[:WRITTEN_BY]-(url))\n",
    "'''"
   ]
  },
  {
   "cell_type": "code",
   "execution_count": null,
   "metadata": {
    "collapsed": true
   },
   "outputs": [],
   "source": [
    "auth = tweepy.OAuthHandler(consumer_key, consumer_secret)\n",
    "auth.set_access_token(access_token, access_token_secret)\n",
    " \n",
    "api = tweepy.API(auth, wait_on_rate_limit = True, wait_on_rate_limit_notify = True)"
   ]
  },
  {
   "cell_type": "code",
   "execution_count": null,
   "metadata": {
    "collapsed": true
   },
   "outputs": [],
   "source": [
    "ids = api.friends_ids()\n",
    "urls = []"
   ]
  },
  {
   "cell_type": "code",
   "execution_count": null,
   "metadata": {
    "collapsed": true
   },
   "outputs": [],
   "source": [
    "for friend in ids:\n",
    "    statuses = api.user_timeline(id=friend, count=200)\n",
    "    for status in statuses:\n",
    "        if status.entities and status.entities['urls']:\n",
    "            for url in status.entities['urls']:\n",
    "                urls.append((url['expanded_url'], status.author.screen_name))"
   ]
  },
  {
   "cell_type": "code",
   "execution_count": null,
   "metadata": {
    "collapsed": true
   },
   "outputs": [],
   "source": [
    "with open('urls.csv', 'w') as f:\n",
    "    for url in urls:\n",
    "        f.write(url[0] + ',' + url[1] + '\\n')\n",
    "    f.close()"
   ]
  },
  {
   "cell_type": "code",
   "execution_count": null,
   "metadata": {
    "collapsed": true
   },
   "outputs": [],
   "source": []
  },
  {
   "cell_type": "code",
   "execution_count": null,
   "metadata": {
    "collapsed": true
   },
   "outputs": [],
   "source": [
    "def parseURL(url):\n",
    "    a = Article(url)\n",
    "    try:\n",
    "        a.download()\n",
    "        a.parse()\n",
    "        a.nlp()\n",
    "        authors = a.authors\n",
    "        keywords = a.keywords\n",
    "        del(a)\n",
    "        return (authors, keywords)\n",
    "    except:\n",
    "        return (None, None)"
   ]
  },
  {
   "cell_type": "code",
   "execution_count": null,
   "metadata": {
    "collapsed": true
   },
   "outputs": [],
   "source": [
    "def insertUserURL(user, url):\n",
    "    authors, keywords = parseURL(url)\n",
    "    if authors and keywords:\n",
    "        params = {}\n",
    "        params['username'] = user\n",
    "        params['url'] = url\n",
    "        params['authors'] = authors\n",
    "        params['keywords'] = keywords\n",
    "        graphdb.cypher.execute(INSERT_USER_URL_QUERY, params)"
   ]
  },
  {
   "cell_type": "code",
   "execution_count": null,
   "metadata": {
    "collapsed": true
   },
   "outputs": [],
   "source": [
    "def doWork():\n",
    "    while True:\n",
    "        urlTuple = q.get()\n",
    "        insertUserURL(urlTuple[0], urlTuple[1])\n",
    "        q.task_done()\n",
    "        "
   ]
  },
  {
   "cell_type": "code",
   "execution_count": null,
   "metadata": {
    "collapsed": true
   },
   "outputs": [],
   "source": []
  },
  {
   "cell_type": "code",
   "execution_count": null,
   "metadata": {
    "collapsed": true
   },
   "outputs": [],
   "source": [
    "# number of threads / maximum concurrent requests\n",
    "concurrent = 200\n",
    "\n",
    "# init the work queue\n",
    "q = Queue(concurrent * 2)\n",
    "\n",
    "for i in range(concurrent):\n",
    "    t = Thread(target=doWork)\n",
    "    t.daemon = True\n",
    "    t.start()\n",
    "try:\n",
    "    with open('urls.csv', 'r') as f:\n",
    "        for line in f:\n",
    "            l = line.split(',')\n",
    "            url = l[0]\n",
    "            # trim the newline\n",
    "            user = l[1].replace('\\n', '')\n",
    "            q.put((user, url))\n",
    "    q.join()\n",
    "except:\n",
    "    pass"
   ]
  },
  {
   "cell_type": "code",
   "execution_count": null,
   "metadata": {
    "collapsed": true
   },
   "outputs": [],
   "source": []
  },
  {
   "cell_type": "code",
   "execution_count": null,
   "metadata": {
    "collapsed": true
   },
   "outputs": [],
   "source": []
  }
 ],
 "metadata": {
  "kernelspec": {
   "display_name": "Python 3",
   "language": "python",
   "name": "python3"
  },
  "language_info": {
   "codemirror_mode": {
    "name": "ipython",
    "version": 3
   },
   "file_extension": ".py",
   "mimetype": "text/x-python",
   "name": "python",
   "nbconvert_exporter": "python",
   "pygments_lexer": "ipython3",
   "version": "3.4.3"
  }
 },
 "nbformat": 4,
 "nbformat_minor": 0
}
